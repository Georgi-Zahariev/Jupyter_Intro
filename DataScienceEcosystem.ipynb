{
 "cells": [
  {
   "cell_type": "markdown",
   "id": "4588b2f5-9d31-42a3-a69e-1fcaeed9c561",
   "metadata": {},
   "source": [
    "# Data Science Tools and Ecosystem"
   ]
  },
  {
   "cell_type": "markdown",
   "id": "c08fcda1-d983-495d-969e-3e4ff33c176b",
   "metadata": {},
   "source": [
    "In this notebook, Data Science Tools and Ecosystem are summarized."
   ]
  },
  {
   "cell_type": "markdown",
   "id": "5bd9c418-4bd3-43aa-8e80-ca6405374731",
   "metadata": {},
   "source": [
    "Some of the popular languages that Data Scientists use are:\n",
    "1. Python\n",
    "2. R\n",
    "3. SQL\n",
    "4. Java\n",
    "5. Julia\n",
    "6. Scala\n",
    "7. SAS\n"
   ]
  },
  {
   "cell_type": "markdown",
   "id": "db0a0969-869c-4873-ba64-55488c56501f",
   "metadata": {},
   "source": [
    "Some of the commonly used libraries used by Data Scientists include:\n",
    "1. Pandas\n",
    "2. Matplotlib\n",
    "3. NumPy\n",
    "4. Scikit-learn\n",
    "5. SciPy\n",
    "6. Seaborn\n",
    "7. Beautiful Soup\n",
    "8. Plotly"
   ]
  },
  {
   "cell_type": "markdown",
   "id": "b61ae3c4-75d7-4222-89da-5789b8124503",
   "metadata": {},
   "source": [
    "| Data Science Tools |\n",
    "| :--:                 |\n",
    "| Jupyter Notebooks  |\n",
    "| RStudio            |\n",
    "| Apache Hadoop      |\n",
    "| Apache Spark       |\n",
    "| TensorFlow         |"
   ]
  },
  {
   "cell_type": "markdown",
   "id": "d18a6d87-6ca3-42c3-8109-6de0ac880c5d",
   "metadata": {},
   "source": [
    "### Below are a few examples of evaluating arithmetic expressions in Python"
   ]
  },
  {
   "cell_type": "markdown",
   "id": "26def3f0-1f9e-48a3-9683-bb03718e240f",
   "metadata": {},
   "source": [
    "This a simple arithmetic expression to mutiply then add integers"
   ]
  },
  {
   "cell_type": "code",
   "execution_count": 1,
   "id": "fca50898-6ef8-44ec-973d-da184b246e92",
   "metadata": {},
   "outputs": [
    {
     "data": {
      "text/plain": [
       "17"
      ]
     },
     "execution_count": 1,
     "metadata": {},
     "output_type": "execute_result"
    }
   ],
   "source": [
    "(3*4)+5"
   ]
  },
  {
   "cell_type": "markdown",
   "id": "a210557f-93a9-481e-ba3c-f526564e0fbe",
   "metadata": {},
   "source": [
    "This will convert 200 minutes to hours by diving by 60"
   ]
  },
  {
   "cell_type": "code",
   "execution_count": 5,
   "id": "20e4e7db-a4a7-427d-ad61-c6f66680035b",
   "metadata": {},
   "outputs": [
    {
     "data": {
      "text/plain": [
       "3.3333333333333335"
      ]
     },
     "execution_count": 5,
     "metadata": {},
     "output_type": "execute_result"
    }
   ],
   "source": [
    "200/60"
   ]
  },
  {
   "cell_type": "markdown",
   "id": "5681bee7-ea55-4eee-93d1-51af2b5d810b",
   "metadata": {},
   "source": [
    "3.33 hours is 3 hours and 20 minutes"
   ]
  },
  {
   "cell_type": "markdown",
   "id": "537c2c06-cfa6-4553-8372-53073baae940",
   "metadata": {
    "scrolled": true
   },
   "source": [
    "__Objectives:__\n",
    "- Python\n",
    "- SQL\n",
    "- Pandas\n",
    "- RStudio"
   ]
  },
  {
   "cell_type": "markdown",
   "id": "10444e2e-9cdb-40b3-86dd-ce21335b8791",
   "metadata": {},
   "source": [
    "## Author\n",
    "Georgi Zahariev"
   ]
  }
 ],
 "metadata": {
  "kernelspec": {
   "display_name": "Python 3 (ipykernel)",
   "language": "python",
   "name": "python3"
  },
  "language_info": {
   "codemirror_mode": {
    "name": "ipython",
    "version": 3
   },
   "file_extension": ".py",
   "mimetype": "text/x-python",
   "name": "python",
   "nbconvert_exporter": "python",
   "pygments_lexer": "ipython3",
   "version": "3.11.9"
  }
 },
 "nbformat": 4,
 "nbformat_minor": 5
}
